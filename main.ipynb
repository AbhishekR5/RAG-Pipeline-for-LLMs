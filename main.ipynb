{
 "cells": [
  {
   "cell_type": "markdown",
   "id": "e89ecf77",
   "metadata": {},
   "source": [
    "Import the necessary Python libraries"
   ]
  },
  {
   "cell_type": "code",
   "execution_count": 1,
   "id": "7e1746eb",
   "metadata": {},
   "outputs": [
    {
     "name": "stderr",
     "output_type": "stream",
     "text": [
      "/usr/local/python/3.12.1/lib/python3.12/site-packages/tqdm/auto.py:21: TqdmWarning: IProgress not found. Please update jupyter and ipywidgets. See https://ipywidgets.readthedocs.io/en/stable/user_install.html\n",
      "  from .autonotebook import tqdm as notebook_tqdm\n"
     ]
    }
   ],
   "source": [
    "import wikipedia\n",
    "from transformers import AutoTokenizer, AutoModelForQuestionAnswering, pipeline\n",
    "from sentence_transformers import SentenceTransformer\n",
    "import faiss\n",
    "import numpy as np"
   ]
  },
  {
   "cell_type": "markdown",
   "id": "4bd895c2",
   "metadata": {},
   "source": [
    "Retrieving Knowledge"
   ]
  },
  {
   "cell_type": "code",
   "execution_count": 2,
   "id": "6c2205af",
   "metadata": {},
   "outputs": [],
   "source": [
    "def get_wikipedia_content(topic):\n",
    "    try:\n",
    "        page = wikipedia.page(topic)\n",
    "        return page.content\n",
    "    except wikipedia.exceptions.PageError:\n",
    "        return None\n",
    "    except wikipedia.exceptions.DisambiguationError as e:\n",
    "        # handle cases where the topic is ambiguous\n",
    "        print(f\"Ambiguous topic. Please be more specific. Options: {e.options}\")\n",
    "        return None\n",
    "\n",
    "# user input\n",
    "topic = input(\"Enter a topic to learn about: \")\n",
    "document = get_wikipedia_content(topic)\n",
    "\n",
    "if not document:\n",
    "    print(\"Could not retrieve information.\")\n",
    "    exit()"
   ]
  },
  {
   "cell_type": "markdown",
   "id": "65d007b3",
   "metadata": {},
   "source": [
    "split the text into smaller overlapping chunks for better retrieval"
   ]
  },
  {
   "cell_type": "code",
   "execution_count": 3,
   "id": "8f451cef",
   "metadata": {},
   "outputs": [
    {
     "name": "stderr",
     "output_type": "stream",
     "text": [
      "Token indices sequence length is longer than the specified maximum sequence length for this model (17488 > 512). Running this sequence through the model will result in indexing errors\n"
     ]
    },
    {
     "name": "stdout",
     "output_type": "stream",
     "text": [
      "Number of chunks: 75\n"
     ]
    }
   ],
   "source": [
    "tokenizer = AutoTokenizer.from_pretrained(\"sentence-transformers/all-mpnet-base-v2\")\n",
    "\n",
    "def split_text(text, chunk_size=256, chunk_overlap=20):\n",
    "    tokens = tokenizer.tokenize(text)\n",
    "    chunks = []\n",
    "    start = 0\n",
    "    while start < len(tokens):\n",
    "        end = min(start + chunk_size, len(tokens))\n",
    "        chunks.append(tokenizer.convert_tokens_to_string(tokens[start:end]))\n",
    "        if end == len(tokens):\n",
    "            break\n",
    "        start = end - chunk_overlap\n",
    "    return chunks\n",
    "\n",
    "chunks = split_text(document)\n",
    "print(f\"Number of chunks: {len(chunks)}\")"
   ]
  },
  {
   "cell_type": "markdown",
   "id": "c242e0d5",
   "metadata": {},
   "source": [
    "Storing and Retrieving Knowledge"
   ]
  },
  {
   "cell_type": "code",
   "execution_count": 4,
   "id": "8fb6f58c",
   "metadata": {},
   "outputs": [],
   "source": [
    "embedding_model = SentenceTransformer(\"sentence-transformers/all-mpnet-base-v2\")\n",
    "embeddings = embedding_model.encode(chunks)\n",
    "\n",
    "dimension = embeddings.shape[1]\n",
    "index = faiss.IndexFlatL2(dimension)\n",
    "index.add(np.array(embeddings))"
   ]
  },
  {
   "cell_type": "markdown",
   "id": "4ec93d21",
   "metadata": {},
   "source": [
    "Querying the RAG Pipeline"
   ]
  },
  {
   "cell_type": "code",
   "execution_count": 5,
   "id": "a7f9426d",
   "metadata": {},
   "outputs": [
    {
     "name": "stdout",
     "output_type": "stream",
     "text": [
      "Retrieved chunks:\n",
      "- . microsoft, motorola mobility v. apple inc., and apple corps v. apple computer. apple has also had to defend itself against charges on numerous occasions of violating intellectual property rights. most have been dismissed in the courts as shell companies known as patent trolls, with no evidence of actual use of patents in question. on december 21, 2016, nokia announced that in the u. s. and germany, it has filed a suit against apple, claiming that the latter ' s products infringe on nokia ' s patents. most recently, in november 2017, the united states international trade commission announced an investigation into allegations of patent infringement in regards to apple ' s remote desktop technology ; aqua connect, a company that builds remote desktop software, has claimed that apple infringed on two of its patents. in january 2022, ericsson sued apple over payment of royalty of 5g technology. on june 24, 2024, the european commission accused apple of violating the digital markets act by preventing \" app developers from freely steering consumers to alternative channels for offers and content \". = = finances = = as of 2023, apple is the world ' s largest technology company by revenue, with us $ 383. 28 billion ; the world ' s largest technology company by total assets\n",
      "- on november 1, 2024, apple announced its acquisition of pixelmator, a company known for its image editing applications for iphone and mac. apple had previously showcased pixelmator ' s apps during its product launches, including naming pixelmator pro its mac app of the year in 2018 for its innovative use of machine learning and ai. in the announcement, pixelmator stated that there would be no significant changes to its existing apps following the acquisition. on december 31, 2024, a preliminary settlement was filed in the oakland, california federal court that accused apple of unlawfully recording private conversations through unintentional siri activations and shared them with third parties, including advertisers. apple agreed to a $ 95 million cash settlement to resolve this lawsuit in which its siri assistant violated user privacy. while denying any wrongdoing, apple settled the case, allowing affected users to potentially claim up to $ 20 per device. attorneys sought $ 28. 5 million in fees from the settlement fund. = = products = = since the company ' s founding and into the early 2000s, apple primarily sold computers, which are marketed as macintosh since the mid - 1980s. since then, the company has expanded its product categories to include various portable devices, starting with the now\n",
      "- 2017. strong product sales have placed apple among the top - tier retail stores, with sales over $ 16 billion globally in 2011. apple stores underwent a period of significant redesign, beginning in may 2016. this redesign included physical changes to the apple stores, such as open spaces and re - branded rooms, and changes in function to facilitate interaction between consumers and professionals. many apple stores are located inside shopping malls, but apple has built several stand - alone \" flagship \" stores in high - profile locations. it has been granted design patents and received architectural awards for its stores ' designs and construction, specifically for its use of glass staircases and cubes. the success of apple stores have had significant influence over other consumer electronics retailers, who have lost traffic, control and profits due to a perceived higher quality of service and products at apple stores. due to the popularity of the brand, apple receives a large number of job applications, many of which come from young workers. although apple store employees receive above - average pay, are offered money toward education and health care, and receive product discounts, there are limited or no paths of career advancement. = = = market power = = = on march 16, 2020, france fined apple €1. 1 billion for colluding with two wholesalers\n"
     ]
    }
   ],
   "source": [
    "query = input(\"Ask a question about the topic: \")\n",
    "query_embedding = embedding_model.encode([query])\n",
    "\n",
    "k = 3\n",
    "distances, indices = index.search(np.array(query_embedding), k)\n",
    "retrieved_chunks = [chunks[i] for i in indices[0]]\n",
    "print(\"Retrieved chunks:\")\n",
    "for chunk in retrieved_chunks:\n",
    "    print(\"- \" + chunk)"
   ]
  },
  {
   "cell_type": "markdown",
   "id": "e75d4cb9",
   "metadata": {},
   "source": [
    "Answering the Question with an LLM"
   ]
  },
  {
   "cell_type": "code",
   "execution_count": 6,
   "id": "3441e6e7",
   "metadata": {},
   "outputs": [
    {
     "name": "stderr",
     "output_type": "stream",
     "text": [
      "Device set to use cpu\n"
     ]
    },
    {
     "name": "stdout",
     "output_type": "stream",
     "text": [
      "Answer: apple corps v. apple computer\n"
     ]
    }
   ],
   "source": [
    "qa_model_name = \"deepset/roberta-base-squad2\"\n",
    "qa_tokenizer = AutoTokenizer.from_pretrained(qa_model_name)\n",
    "qa_model = AutoModelForQuestionAnswering.from_pretrained(qa_model_name)\n",
    "qa_pipeline = pipeline(\"question-answering\", model=qa_model, tokenizer=qa_tokenizer)\n",
    "\n",
    "context = \" \".join(retrieved_chunks)\n",
    "answer = qa_pipeline(question=query, context=context)\n",
    "print(f\"Answer: {answer['answer']}\")"
   ]
  }
 ],
 "metadata": {
  "kernelspec": {
   "display_name": "Python 3 (ipykernel)",
   "language": "python",
   "name": "python3"
  },
  "language_info": {
   "codemirror_mode": {
    "name": "ipython",
    "version": 3
   },
   "file_extension": ".py",
   "mimetype": "text/x-python",
   "name": "python",
   "nbconvert_exporter": "python",
   "pygments_lexer": "ipython3",
   "version": "3.12.1"
  }
 },
 "nbformat": 4,
 "nbformat_minor": 5
}
